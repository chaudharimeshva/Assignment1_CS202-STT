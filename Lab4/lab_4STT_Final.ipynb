{
  "nbformat": 4,
  "nbformat_minor": 0,
  "metadata": {
    "colab": {
      "provenance": [],
      "gpuType": "T4"
    },
    "kernelspec": {
      "name": "python3",
      "display_name": "Python 3"
    },
    "language_info": {
      "name": "python"
    },
    "accelerator": "GPU"
  },
  "cells": [
    {
      "cell_type": "code",
      "source": [
        "!pip install pydriller"
      ],
      "metadata": {
        "colab": {
          "base_uri": "https://localhost:8080/"
        },
        "id": "lMSP5PEX0lK0",
        "outputId": "cfe97e3d-bfc0-4e50-d940-f8712996c3c0"
      },
      "execution_count": 2,
      "outputs": [
        {
          "output_type": "stream",
          "name": "stdout",
          "text": [
            "Collecting pydriller\n",
            "  Downloading PyDriller-2.9-py3-none-any.whl.metadata (1.3 kB)\n",
            "Requirement already satisfied: gitpython in /usr/local/lib/python3.12/dist-packages (from pydriller) (3.1.45)\n",
            "Requirement already satisfied: pytz in /usr/local/lib/python3.12/dist-packages (from pydriller) (2025.2)\n",
            "Requirement already satisfied: types-pytz in /usr/local/lib/python3.12/dist-packages (from pydriller) (2025.2.0.20250809)\n",
            "Collecting lizard (from pydriller)\n",
            "  Downloading lizard-1.17.31-py2.py3-none-any.whl.metadata (16 kB)\n",
            "Requirement already satisfied: gitdb<5,>=4.0.1 in /usr/local/lib/python3.12/dist-packages (from gitpython->pydriller) (4.0.12)\n",
            "Requirement already satisfied: pygments in /usr/local/lib/python3.12/dist-packages (from lizard->pydriller) (2.19.2)\n",
            "Collecting pathspec (from lizard->pydriller)\n",
            "  Downloading pathspec-0.12.1-py3-none-any.whl.metadata (21 kB)\n",
            "Requirement already satisfied: smmap<6,>=3.0.1 in /usr/local/lib/python3.12/dist-packages (from gitdb<5,>=4.0.1->gitpython->pydriller) (5.0.2)\n",
            "Downloading PyDriller-2.9-py3-none-any.whl (36 kB)\n",
            "Downloading lizard-1.17.31-py2.py3-none-any.whl (82 kB)\n",
            "\u001b[2K   \u001b[90m━━━━━━━━━━━━━━━━━━━━━━━━━━━━━━━━━━━━━━━━\u001b[0m \u001b[32m82.1/82.1 kB\u001b[0m \u001b[31m6.2 MB/s\u001b[0m eta \u001b[36m0:00:00\u001b[0m\n",
            "\u001b[?25hDownloading pathspec-0.12.1-py3-none-any.whl (31 kB)\n",
            "Installing collected packages: pathspec, lizard, pydriller\n",
            "Successfully installed lizard-1.17.31 pathspec-0.12.1 pydriller-2.9\n"
          ]
        }
      ]
    },
    {
      "cell_type": "code",
      "source": [
        "from google.colab import drive\n",
        "drive.mount('/content/drive')"
      ],
      "metadata": {
        "colab": {
          "base_uri": "https://localhost:8080/"
        },
        "id": "JxwggsIx49LR",
        "outputId": "bb41b887-1abf-4e76-ea7f-7d660059ad35"
      },
      "execution_count": 1,
      "outputs": [
        {
          "output_type": "stream",
          "name": "stdout",
          "text": [
            "Mounted at /content/drive\n"
          ]
        }
      ]
    },
    {
      "cell_type": "markdown",
      "source": [
        "**Repository** **1**"
      ],
      "metadata": {
        "id": "T6rDC7DS_Vt2"
      }
    },
    {
      "cell_type": "code",
      "source": [
        "!git clone https://github.com/oobabooga/text-generation-webui"
      ],
      "metadata": {
        "id": "qt06FXF_2dvd",
        "colab": {
          "base_uri": "https://localhost:8080/"
        },
        "outputId": "c0ba31ee-49b8-4703-d112-d31b1fd24d4d"
      },
      "execution_count": null,
      "outputs": [
        {
          "output_type": "stream",
          "name": "stdout",
          "text": [
            "fatal: destination path 'text-generation-webui' already exists and is not an empty directory.\n"
          ]
        }
      ]
    },
    {
      "cell_type": "code",
      "source": [
        "import csv\n",
        "import os\n",
        "import subprocess\n",
        "from pydriller import Repository\n",
        "\n",
        "REPO_PATH = r\"/content/text-generation-webui\"\n",
        "OUTPUT_CSV = \"/content/drive/MyDrive/Lab_4_Output_text-generation.csv\"\n",
        "\n",
        "def get_git_diff(repo_path, commit_sha, parent_sha, diff_algo=\"myers\"):\n",
        "\n",
        "    cmd = [\n",
        "        \"git\", \"-C\", repo_path, \"diff\",\n",
        "        parent_sha, commit_sha,\n",
        "        f\"--diff-algorithm={diff_algo}\",\n",
        "        \"--ignore-all-space\", \"--ignore-blank-lines\"\n",
        "    ]\n",
        "    try:\n",
        "        diff_output = subprocess.check_output(cmd, stderr=subprocess.DEVNULL)\n",
        "        return diff_output.decode(\"utf-8\", errors=\"ignore\")\n",
        "    except subprocess.CalledProcessError:\n",
        "        return \"\"\n",
        "\n",
        "\n",
        "# Main Processing\n",
        "with open(OUTPUT_CSV, mode=\"w\", newline=\"\", encoding=\"utf-8\") as csvfile:\n",
        "    writer = csv.writer(csvfile)\n",
        "    # Header\n",
        "    writer.writerow([\n",
        "        \"repo\", \"old_file_path\", \"new_file_path\", \"commit_sha\",\n",
        "        \"parent_commit_sha\", \"commit_message\", \"diff_myers\",\n",
        "        \"diff_histogram\", \"Discrepancy\"\n",
        "    ])\n",
        "\n",
        "    repo_name = os.path.basename(REPO_PATH)\n",
        "    print(f\"Analyzing repository: {repo_name}\")\n",
        "\n",
        "    # Iterate commits using PyDriller\n",
        "    for commit in Repository(path_to_repo=REPO_PATH).traverse_commits():\n",
        "        commit_sha = commit.hash\n",
        "        parents = commit.parents\n",
        "        commit_msg = commit.msg.strip()\n",
        "\n",
        "        # If no parent (initial commit), skip\n",
        "        if not parents:\n",
        "            continue\n",
        "\n",
        "        parent_sha = parents[0]  # Taking the first parent (skip merge complexity)\n",
        "\n",
        "        # Get diffs for each modified file\n",
        "        for mod in commit.modified_files:\n",
        "            old_path = mod.old_path or \"\"\n",
        "            new_path = mod.new_path or \"\"\n",
        "\n",
        "            diff_myers = get_git_diff(REPO_PATH, commit_sha, parent_sha, diff_algo=\"myers\")\n",
        "            diff_hist = get_git_diff(REPO_PATH, commit_sha, parent_sha, diff_algo=\"histogram\")\n",
        "            discrepancy = \"No\" if diff_myers.strip() == diff_hist.strip() else \"Yes\"\n",
        "\n",
        "            # Write to CSV\n",
        "            writer.writerow([\n",
        "                repo_name, old_path, new_path, commit_sha, parent_sha,\n",
        "                commit_msg, diff_myers, diff_hist, discrepancy\n",
        "            ])\n",
        "\n",
        "print(f\"\\n Diff analysis completed for {repo_name}. Data saved to {OUTPUT_CSV}\")\n"
      ],
      "metadata": {
        "id": "jBfjb6cy1eBf",
        "colab": {
          "base_uri": "https://localhost:8080/"
        },
        "outputId": "3fa23b3e-983a-4557-e75b-76b949784606"
      },
      "execution_count": null,
      "outputs": [
        {
          "output_type": "stream",
          "name": "stdout",
          "text": [
            "Analyzing repository: text-generation-webui\n",
            "\n",
            " Diff analysis completed for text-generation-webui. Data saved to /content/drive/MyDrive/Lab_4_Output_text-generation.csv\n"
          ]
        }
      ]
    },
    {
      "cell_type": "code",
      "source": [
        "import pandas as pd\n",
        "import matplotlib.pyplot as plt\n",
        "\n",
        "CSV_FILE = \"/content/drive/MyDrive/Lab_4_Output_text-generation.csv\"\n",
        "df = pd.read_csv(CSV_FILE)\n",
        "\n",
        "# Filter only rows where Discrepancy == 'Yes'\n",
        "df_mismatch = df[df['Discrepancy'] == 'Yes']\n",
        "\n",
        "# Helper: Categorize file type\n",
        "def categorize_file(path):\n",
        "    if isinstance(path, str):\n",
        "        filename = path.lower()\n",
        "\n",
        "        if filename.startswith(\"readme\"):\n",
        "            return \"README\"\n",
        "        elif filename.startswith(\"license\"):\n",
        "            return \"LICENSE\"\n",
        "\n",
        "        elif \"test\" in filename:\n",
        "            return \"Test Code\"\n",
        "\n",
        "        elif filename.endswith(('.py', '.java', '.cpp', '.c', '.js')):\n",
        "            return \"Source Code\"\n",
        "    return \"Other\"\n",
        "\n",
        "# Apply categorization on both old and new file paths\n",
        "df_mismatch['category'] = df_mismatch['new_file_path'].apply(categorize_file)\n",
        "\n",
        "# Count mismatches per category\n",
        "category_counts = df_mismatch['category'].value_counts()\n",
        "\n",
        "# Print counts\n",
        "print(\"Mismatch counts by category:\")\n",
        "print(category_counts)\n",
        "\n",
        "# Plot bar chart\n",
        "plt.figure(figsize=(8, 5))\n",
        "category_counts.plot(kind='bar', color=['blue', 'orange', 'green', 'red', 'gray'])\n",
        "plt.title('Number of Mismatches by File Type')\n",
        "plt.xlabel('File Type')\n",
        "plt.ylabel('Count of Mismatches')\n",
        "plt.xticks(rotation=30)\n",
        "plt.tight_layout()\n",
        "plt.show()\n"
      ],
      "metadata": {
        "colab": {
          "base_uri": "https://localhost:8080/",
          "height": 770
        },
        "id": "ZAD66cjG5sTY",
        "outputId": "2f36e9d7-735a-4abf-9bf9-210c3d0de94f"
      },
      "execution_count": 4,
      "outputs": [
        {
          "output_type": "stream",
          "name": "stderr",
          "text": [
            "/tmp/ipython-input-232812669.py:28: SettingWithCopyWarning: \n",
            "A value is trying to be set on a copy of a slice from a DataFrame.\n",
            "Try using .loc[row_indexer,col_indexer] = value instead\n",
            "\n",
            "See the caveats in the documentation: https://pandas.pydata.org/pandas-docs/stable/user_guide/indexing.html#returning-a-view-versus-a-copy\n",
            "  df_mismatch['category'] = df_mismatch['new_file_path'].apply(categorize_file)\n"
          ]
        },
        {
          "output_type": "stream",
          "name": "stdout",
          "text": [
            "Mismatch counts by category:\n",
            "category\n",
            "Other          1236\n",
            "Source Code    1190\n",
            "Test Code       659\n",
            "README           26\n",
            "LICENSE           2\n",
            "Name: count, dtype: int64\n"
          ]
        },
        {
          "output_type": "display_data",
          "data": {
            "text/plain": [
              "<Figure size 800x500 with 1 Axes>"
            ],
            "image/png": "[encoded data removed]"
          },
          "metadata": {}
        }
      ]
    },
    {
      "cell_type": "code",
      "source": [
        "!git clone https://github.com/pytube/pytube.git\n"
      ],
      "metadata": {
        "colab": {
          "base_uri": "https://localhost:8080/"
        },
        "id": "FAZFQ7sILbO6",
        "outputId": "ad91f1c5-8b24-458d-ef38-3af40ea6c04d"
      },
      "execution_count": null,
      "outputs": [
        {
          "output_type": "stream",
          "name": "stdout",
          "text": [
            "Cloning into 'pytube'...\n",
            "remote: Enumerating objects: 6970, done.\u001b[K\n",
            "remote: Total 6970 (delta 0), reused 0 (delta 0), pack-reused 6970 (from 1)\u001b[K\n",
            "Receiving objects: 100% (6970/6970), 18.99 MiB | 34.91 MiB/s, done.\n",
            "Resolving deltas: 100% (4631/4631), done.\n"
          ]
        }
      ]
    },
    {
      "cell_type": "code",
      "source": [
        "import csv\n",
        "import os\n",
        "import subprocess\n",
        "from pydriller import Repository\n",
        "\n",
        "REPO_PATH = r\"/content/pytube\"\n",
        "OUTPUT_CSV = \"/content/drive/MyDrive/Lab_4_Output_pytube.csv\"\n",
        "\n",
        "# Helper: Run git diff command\n",
        "def get_git_diff(repo_path, commit_sha, parent_sha, diff_algo=\"myers\"):\n",
        "    \"\"\"\n",
        "    Generate diff using git for a given commit and parent.\n",
        "    diff_algo can be 'myers' or 'histogram'.\n",
        "    \"\"\"\n",
        "    cmd = [\n",
        "        \"git\", \"-C\", repo_path, \"diff\",\n",
        "        parent_sha, commit_sha,\n",
        "        f\"--diff-algorithm={diff_algo}\",\n",
        "        \"--ignore-all-space\", \"--ignore-blank-lines\"\n",
        "    ]\n",
        "    try:\n",
        "        diff_output = subprocess.check_output(cmd, stderr=subprocess.DEVNULL)\n",
        "        return diff_output.decode(\"utf-8\", errors=\"ignore\")\n",
        "    except subprocess.CalledProcessError:\n",
        "        return \"\"\n",
        "\n",
        "# Main Processing\n",
        "with open(OUTPUT_CSV, mode=\"w\", newline=\"\", encoding=\"utf-8\") as csvfile:\n",
        "    writer = csv.writer(csvfile)\n",
        "    # Header\n",
        "    writer.writerow([\n",
        "        \"repo\", \"old_file_path\", \"new_file_path\", \"commit_sha\",\n",
        "        \"parent_commit_sha\", \"commit_message\", \"diff_myers\",\n",
        "        \"diff_histogram\", \"Discrepancy\"\n",
        "    ])\n",
        "\n",
        "    repo_name = os.path.basename(REPO_PATH)\n",
        "    print(f\"Analyzing repository: {repo_name}\")\n",
        "\n",
        "    # Iterate commits using PyDriller\n",
        "    for commit in Repository(path_to_repo=REPO_PATH).traverse_commits():\n",
        "        commit_sha = commit.hash\n",
        "        parents = commit.parents\n",
        "        commit_msg = commit.msg.strip()\n",
        "\n",
        "        # If no parent (initial commit), skip\n",
        "        if not parents:\n",
        "            continue\n",
        "\n",
        "        parent_sha = parents[0]  # Taking the first parent (skip merge complexity)\n",
        "\n",
        "        # Get diffs for each modified file\n",
        "        for mod in commit.modified_files:\n",
        "            old_path = mod.old_path or \"\"\n",
        "            new_path = mod.new_path or \"\"\n",
        "\n",
        "\n",
        "            diff_myers = get_git_diff(REPO_PATH, commit_sha, parent_sha, diff_algo=\"myers\")\n",
        "            diff_hist = get_git_diff(REPO_PATH, commit_sha, parent_sha, diff_algo=\"histogram\")\n",
        "            discrepancy = \"No\" if diff_myers.strip() == diff_hist.strip() else \"Yes\"\n",
        "\n",
        "            # Write to CSV\n",
        "            writer.writerow([\n",
        "                repo_name, old_path, new_path, commit_sha, parent_sha,\n",
        "                commit_msg, diff_myers, diff_hist, discrepancy\n",
        "            ])\n",
        "\n",
        "print(f\"\\n Diff analysis completed for {repo_name}. Data saved to {OUTPUT_CSV}\")\n"
      ],
      "metadata": {
        "colab": {
          "base_uri": "https://localhost:8080/"
        },
        "id": "pCSxNbQYLXcj",
        "outputId": "1d765b75-c5d8-4aa3-a224-79149c7b4ec4"
      },
      "execution_count": null,
      "outputs": [
        {
          "output_type": "stream",
          "name": "stdout",
          "text": [
            "Analyzing repository: pytube\n",
            "\n",
            " Diff analysis completed for pytube. Data saved to /content/drive/MyDrive/Lab_4_Output_pytube.csv\n"
          ]
        }
      ]
    },
    {
      "cell_type": "code",
      "source": [
        "import pandas as pd\n",
        "import matplotlib.pyplot as plt\n",
        "\n",
        "CSV_FILE = \"/content/drive/MyDrive/Lab_4_Output_pytube.csv\"\n",
        "df = pd.read_csv(CSV_FILE)\n",
        "\n",
        "# Filter only rows where Discrepancy == 'Yes'\n",
        "df_mismatch = df[df['Discrepancy'] == 'Yes']\n",
        "\n",
        "# Helper: Categorize file type\n",
        "def categorize_file(path):\n",
        "    if isinstance(path, str):\n",
        "        filename = path.lower()\n",
        "\n",
        "        if filename.startswith(\"readme\"):\n",
        "            return \"README\"\n",
        "        elif filename.startswith(\"license\"):\n",
        "            return \"LICENSE\"\n",
        "\n",
        "        elif \"test\" in filename:\n",
        "            return \"Test Code\"\n",
        "\n",
        "        elif filename.endswith(('.py', '.java', '.cpp', '.c', '.js')):\n",
        "            return \"Source Code\"\n",
        "    return \"Other\"\n",
        "\n",
        "# Apply categorization on both old and new file paths\n",
        "df_mismatch['category'] = df_mismatch['new_file_path'].apply(categorize_file)\n",
        "\n",
        "\n",
        "# Count mismatches per category\n",
        "\n",
        "category_counts = df_mismatch['category'].value_counts()\n",
        "\n",
        "# Print counts\n",
        "print(\"Mismatch counts by category:\")\n",
        "print(category_counts)\n",
        "\n",
        "# Plot bar chart\n",
        "plt.figure(figsize=(8, 5))\n",
        "category_counts.plot(kind='bar', color=['blue', 'orange', 'green', 'red', 'gray'])\n",
        "plt.title('Number of Mismatches by File Type')\n",
        "plt.xlabel('File Type')\n",
        "plt.ylabel('Count of Mismatches')\n",
        "plt.xticks(rotation=30)\n",
        "plt.tight_layout()\n",
        "plt.show()\n"
      ],
      "metadata": {
        "colab": {
          "base_uri": "https://localhost:8080/",
          "height": 753
        },
        "id": "RD3_HC8QLZ5k",
        "outputId": "f1b51a08-83c1-455e-956e-d70784d2c530"
      },
      "execution_count": null,
      "outputs": [
        {
          "output_type": "stream",
          "name": "stdout",
          "text": [
            "Mismatch counts by category:\n",
            "category\n",
            "Source Code    187\n",
            "Other           99\n",
            "Test Code       93\n",
            "README          16\n",
            "Name: count, dtype: int64\n"
          ]
        },
        {
          "output_type": "stream",
          "name": "stderr",
          "text": [
            "/tmp/ipython-input-2713361234.py:28: SettingWithCopyWarning: \n",
            "A value is trying to be set on a copy of a slice from a DataFrame.\n",
            "Try using .loc[row_indexer,col_indexer] = value instead\n",
            "\n",
            "See the caveats in the documentation: https://pandas.pydata.org/pandas-docs/stable/user_guide/indexing.html#returning-a-view-versus-a-copy\n",
            "  df_mismatch['category'] = df_mismatch['new_file_path'].apply(categorize_file)\n"
          ]
        },
        {
          "output_type": "display_data",
          "data": {
            "text/plain": [
              "<Figure size 800x500 with 1 Axes>"
            ],
            "image/png": "[encoded data removed]"
          },
          "metadata": {}
        }
      ]
    },
    {
      "cell_type": "markdown",
      "source": [
        "**Repository** **3**"
      ],
      "metadata": {
        "id": "Akco4-vl1CDx"
      }
    },
    {
      "cell_type": "code",
      "source": [
        "!git clone https://github.com/ungoogled-software/ungoogled-chromium.git"
      ],
      "metadata": {
        "colab": {
          "base_uri": "https://localhost:8080/"
        },
        "id": "2FplwdbB0SpO",
        "outputId": "5eae9934-6623-444f-f05b-98c3e847e5a1"
      },
      "execution_count": null,
      "outputs": [
        {
          "output_type": "stream",
          "name": "stdout",
          "text": [
            "Cloning into 'ungoogled-chromium'...\n",
            "remote: Enumerating objects: 22072, done.\u001b[K\n",
            "remote: Counting objects: 100% (1624/1624), done.\u001b[K\n",
            "remote: Compressing objects: 100% (201/201), done.\u001b[K\n",
            "remote: Total 22072 (delta 1535), reused 1426 (delta 1422), pack-reused 20448 (from 3)\u001b[K\n",
            "Receiving objects: 100% (22072/22072), 17.57 MiB | 24.95 MiB/s, done.\n",
            "Resolving deltas: 100% (14919/14919), done.\n"
          ]
        }
      ]
    },
    {
      "cell_type": "code",
      "execution_count": null,
      "metadata": {
        "colab": {
          "base_uri": "https://localhost:8080/"
        },
        "id": "zTxdBS-Y0Qof",
        "outputId": "b68bba00-9729-4fb0-f197-794616d108ef"
      },
      "outputs": [
        {
          "output_type": "stream",
          "name": "stdout",
          "text": [
            "Analyzing repository: ungoogled-chromium\n",
            "\n",
            " Diff analysis completed for ungoogled-chromium. Data saved to /content/drive/MyDrive/Lab_4_Output_ungoogled-chromium.csv\n"
          ]
        }
      ],
      "source": [
        "import csv\n",
        "import os\n",
        "import subprocess\n",
        "from pydriller import Repository\n",
        "\n",
        "REPO_PATH = r\"/content/ungoogled-chromium\"\n",
        "OUTPUT_CSV = \"/content/drive/MyDrive/Lab_4_Output_ungoogled-chromium.csv\"\n",
        "\n",
        "def get_git_diff(repo_path, commit_sha, parent_sha, diff_algo=\"myers\"):\n",
        "\n",
        "    cmd = [\n",
        "        \"git\", \"-C\", repo_path, \"diff\",\n",
        "        parent_sha, commit_sha,\n",
        "        f\"--diff-algorithm={diff_algo}\",\n",
        "        \"--ignore-all-space\", \"--ignore-blank-lines\"\n",
        "    ]\n",
        "    try:\n",
        "        diff_output = subprocess.check_output(cmd, stderr=subprocess.DEVNULL)\n",
        "        return diff_output.decode(\"utf-8\", errors=\"ignore\")\n",
        "    except subprocess.CalledProcessError:\n",
        "        return \"\"\n",
        "\n",
        "\n",
        "# Main Processing\n",
        "with open(OUTPUT_CSV, mode=\"w\", newline=\"\", encoding=\"utf-8\") as csvfile:\n",
        "    writer = csv.writer(csvfile)\n",
        "    # Header\n",
        "    writer.writerow([\n",
        "        \"repo\", \"old_file_path\", \"new_file_path\", \"commit_sha\",\n",
        "        \"parent_commit_sha\", \"commit_message\", \"diff_myers\",\n",
        "        \"diff_histogram\", \"Discrepancy\"\n",
        "    ])\n",
        "\n",
        "    repo_name = os.path.basename(REPO_PATH)\n",
        "    print(f\"Analyzing repository: {repo_name}\")\n",
        "\n",
        "    # Iterate commits using PyDriller\n",
        "    for commit in Repository(path_to_repo=REPO_PATH).traverse_commits():\n",
        "        commit_sha = commit.hash\n",
        "        parents = commit.parents\n",
        "        commit_msg = commit.msg.strip()\n",
        "\n",
        "        # If no parent (initial commit), skip\n",
        "        if not parents:\n",
        "            continue\n",
        "\n",
        "        parent_sha = parents[0]  # Taking the first parent (skip merge complexity)\n",
        "\n",
        "        # Get diffs for each modified file\n",
        "        for mod in commit.modified_files:\n",
        "            old_path = mod.old_path or \"\"\n",
        "            new_path = mod.new_path or \"\"\n",
        "\n",
        "            diff_myers = get_git_diff(REPO_PATH, commit_sha, parent_sha, diff_algo=\"myers\")\n",
        "            diff_hist = get_git_diff(REPO_PATH, commit_sha, parent_sha, diff_algo=\"histogram\")\n",
        "            discrepancy = \"No\" if diff_myers.strip() == diff_hist.strip() else \"Yes\"\n",
        "\n",
        "            # Write to CSV\n",
        "            writer.writerow([\n",
        "                repo_name, old_path, new_path, commit_sha, parent_sha,\n",
        "                commit_msg, diff_myers, diff_hist, discrepancy\n",
        "            ])\n",
        "\n",
        "print(f\"\\n Diff analysis completed for {repo_name}. Data saved to {OUTPUT_CSV}\")\n"
      ]
    },
    {
      "cell_type": "code",
      "source": [
        "import pandas as pd\n",
        "import matplotlib.pyplot as plt\n",
        "\n",
        "CSV_FILE = \"/content/drive/MyDrive/Lab_4_Output_ungoogled-chromium.csv\"\n",
        "df = pd.read_csv(CSV_FILE)\n",
        "\n",
        "# Filter only rows where Discrepancy == 'Yes'\n",
        "df_mismatch = df[df['Discrepancy'] == 'Yes']\n",
        "\n",
        "# Helper: Categorize file type\n",
        "def categorize_file(path):\n",
        "    if isinstance(path, str):\n",
        "        filename = path.lower()\n",
        "\n",
        "        if filename.startswith(\"readme\"):\n",
        "            return \"README\"\n",
        "        elif filename.startswith(\"license\"):\n",
        "            return \"LICENSE\"\n",
        "\n",
        "        elif \"test\" in filename:\n",
        "            return \"Test Code\"\n",
        "\n",
        "        elif filename.endswith(('.py', '.java', '.cpp', '.c', '.js')):\n",
        "            return \"Source Code\"\n",
        "    return \"Other\"\n",
        "\n",
        "# Apply categorization on both old and new file paths\n",
        "df_mismatch['category'] = df_mismatch['new_file_path'].apply(categorize_file)\n",
        "\n",
        "# Count mismatches per category\n",
        "category_counts = df_mismatch['category'].value_counts()\n",
        "\n",
        "# Print counts\n",
        "print(\"Mismatch counts by category:\")\n",
        "print(category_counts)\n",
        "\n",
        "# Plot bar chart\n",
        "plt.figure(figsize=(8, 5))\n",
        "category_counts.plot(kind='bar', color=['blue', 'orange', 'green', 'red', 'gray'])\n",
        "plt.title('Number of Mismatches by File Type')\n",
        "plt.xlabel('File Type')\n",
        "plt.ylabel('Count of Mismatches')\n",
        "plt.xticks(rotation=30)\n",
        "plt.tight_layout()\n",
        "plt.show()\n"
      ],
      "metadata": {
        "colab": {
          "base_uri": "https://localhost:8080/",
          "height": 735
        },
        "id": "FxDnDL6CCEzm",
        "outputId": "2c4890e4-fcf8-4237-f426-1affdd3dff9c"
      },
      "execution_count": null,
      "outputs": [
        {
          "output_type": "stream",
          "name": "stderr",
          "text": [
            "/tmp/ipython-input-2363082014.py:28: SettingWithCopyWarning: \n",
            "A value is trying to be set on a copy of a slice from a DataFrame.\n",
            "Try using .loc[row_indexer,col_indexer] = value instead\n",
            "\n",
            "See the caveats in the documentation: https://pandas.pydata.org/pandas-docs/stable/user_guide/indexing.html#returning-a-view-versus-a-copy\n",
            "  df_mismatch['category'] = df_mismatch['new_file_path'].apply(categorize_file)\n"
          ]
        },
        {
          "output_type": "stream",
          "name": "stdout",
          "text": [
            "Mismatch counts by category:\n",
            "category\n",
            "Other          4188\n",
            "Source Code     164\n",
            "README           15\n",
            "Name: count, dtype: int64\n"
          ]
        },
        {
          "output_type": "display_data",
          "data": {
            "text/plain": [
              "<Figure size 800x500 with 1 Axes>"
            ],
            "image/png": "[encoded data removed]"
          },
          "metadata": {}
        }
      ]
    }
  ]
}
